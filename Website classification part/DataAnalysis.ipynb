{
 "cells": [
  {
   "cell_type": "code",
   "execution_count": null,
   "metadata": {},
   "outputs": [],
   "source": [
    "import pandas as pd\n",
    "import numpy as np\n",
    "import matplotlib.pyplot as plt"
   ]
  },
  {
   "cell_type": "code",
   "execution_count": null,
   "metadata": {},
   "outputs": [],
   "source": [
    "fn_df = pd.read_csv('FakeReal_News_Sites.csv', index_col=[0])\n",
    "fn_df.head()"
   ]
  },
  {
   "cell_type": "code",
   "execution_count": 66,
   "metadata": {},
   "outputs": [],
   "source": [
    "fn_df.drop(['Timeout'], axis=1, inplace=True)"
   ]
  },
  {
   "cell_type": "markdown",
   "metadata": {},
   "source": [
    "Average page ranking of real sites"
   ]
  },
  {
   "cell_type": "code",
   "execution_count": 67,
   "metadata": {},
   "outputs": [
    {
     "data": {
      "text/plain": [
       "5.063513513513513"
      ]
     },
     "execution_count": 67,
     "metadata": {},
     "output_type": "execute_result"
    }
   ],
   "source": [
    "fn_df[fn_df['Site Rating'] == 'Real']['Page rank decimal'].mean()"
   ]
  },
  {
   "cell_type": "markdown",
   "metadata": {},
   "source": [
    "Average page ranking of fake sites"
   ]
  },
  {
   "cell_type": "code",
   "execution_count": 68,
   "metadata": {},
   "outputs": [
    {
     "data": {
      "text/plain": [
       "3.413039999999999"
      ]
     },
     "execution_count": 68,
     "metadata": {},
     "output_type": "execute_result"
    }
   ],
   "source": [
    "fn_df[fn_df['Site Rating'] == 'Fake']['Page rank decimal'].mean()"
   ]
  },
  {
   "cell_type": "markdown",
   "metadata": {},
   "source": [
    "Average site rank of real sites"
   ]
  },
  {
   "cell_type": "code",
   "execution_count": 69,
   "metadata": {},
   "outputs": [
    {
     "data": {
      "text/plain": [
       "1321551.527027027"
      ]
     },
     "execution_count": 69,
     "metadata": {},
     "output_type": "execute_result"
    }
   ],
   "source": [
    "fn_df[fn_df['Site Rating'] == 'Real']['Site Rank'].mean()"
   ]
  },
  {
   "cell_type": "markdown",
   "metadata": {},
   "source": [
    "Average site rank of fake sites"
   ]
  },
  {
   "cell_type": "code",
   "execution_count": 70,
   "metadata": {},
   "outputs": [
    {
     "data": {
      "text/plain": [
       "8213574.056910569"
      ]
     },
     "execution_count": 70,
     "metadata": {},
     "output_type": "execute_result"
    }
   ],
   "source": [
    "fn_df[fn_df['Site Rating'] == 'Fake']['Site Rank'].mean()"
   ]
  },
  {
   "cell_type": "markdown",
   "metadata": {},
   "source": [
    "How many malicious sites were fake"
   ]
  },
  {
   "cell_type": "code",
   "execution_count": 71,
   "metadata": {},
   "outputs": [
    {
     "data": {
      "text/plain": [
       "50"
      ]
     },
     "execution_count": 71,
     "metadata": {},
     "output_type": "execute_result"
    }
   ],
   "source": [
    "fn_df[(fn_df['Malicious'] == 1) & (fn_df['Site Rating'] == 'Fake')].shape[0]"
   ]
  },
  {
   "cell_type": "markdown",
   "metadata": {},
   "source": [
    "How many malicious sites were real"
   ]
  },
  {
   "cell_type": "code",
   "execution_count": 72,
   "metadata": {},
   "outputs": [
    {
     "data": {
      "text/plain": [
       "73"
      ]
     },
     "execution_count": 72,
     "metadata": {},
     "output_type": "execute_result"
    }
   ],
   "source": [
    "fn_df[(fn_df['Malicious'] == 0) & (fn_df['Site Rating'] == 'Real')].shape[0]"
   ]
  },
  {
   "cell_type": "code",
   "execution_count": 73,
   "metadata": {},
   "outputs": [
    {
     "data": {
      "text/plain": [
       "85    64\n",
       "83    44\n",
       "86    38\n",
       "84    35\n",
       "82     9\n",
       "87     4\n",
       "78     2\n",
       "81     2\n",
       "88     1\n",
       "Name: Harmless, dtype: int64"
      ]
     },
     "execution_count": 73,
     "metadata": {},
     "output_type": "execute_result"
    }
   ],
   "source": [
    "fn_df['Harmless'].value_counts()"
   ]
  },
  {
   "cell_type": "code",
   "execution_count": null,
   "metadata": {},
   "outputs": [],
   "source": []
  },
  {
   "cell_type": "code",
   "execution_count": 74,
   "metadata": {},
   "outputs": [
    {
     "data": {
      "text/plain": [
       "1"
      ]
     },
     "execution_count": 74,
     "metadata": {},
     "output_type": "execute_result"
    }
   ],
   "source": [
    "fn_df[(fn_df['Malicious'] >0) & (fn_df['Site Rating'] == 'Real')].shape[0]"
   ]
  },
  {
   "cell_type": "code",
   "execution_count": 75,
   "metadata": {},
   "outputs": [
    {
     "data": {
      "text/plain": [
       "2"
      ]
     },
     "execution_count": 75,
     "metadata": {},
     "output_type": "execute_result"
    }
   ],
   "source": [
    "fn_df[(fn_df['Suspicious'] >0) & (fn_df['Site Rating'] == 'Real')].shape[0]"
   ]
  },
  {
   "cell_type": "code",
   "execution_count": 76,
   "metadata": {},
   "outputs": [
    {
     "data": {
      "text/plain": [
       "52"
      ]
     },
     "execution_count": 76,
     "metadata": {},
     "output_type": "execute_result"
    }
   ],
   "source": [
    "fn_df[(fn_df['Malicious'] >0) & (fn_df['Site Rating'] == 'Fake')].shape[0]"
   ]
  },
  {
   "cell_type": "code",
   "execution_count": 77,
   "metadata": {},
   "outputs": [
    {
     "data": {
      "text/plain": [
       "4"
      ]
     },
     "execution_count": 77,
     "metadata": {},
     "output_type": "execute_result"
    }
   ],
   "source": [
    "fn_df[(fn_df['Suspicious'] >0) & (fn_df['Site Rating'] == 'Fake')].shape[0]"
   ]
  },
  {
   "cell_type": "code",
   "execution_count": 78,
   "metadata": {},
   "outputs": [],
   "source": [
    "fn_df.loc[fn_df['Malicious'] > 0, 'Malicious'] = 1"
   ]
  },
  {
   "cell_type": "code",
   "execution_count": 79,
   "metadata": {},
   "outputs": [
    {
     "data": {
      "text/plain": [
       "0    146\n",
       "1     53\n",
       "Name: Malicious, dtype: int64"
      ]
     },
     "execution_count": 79,
     "metadata": {},
     "output_type": "execute_result"
    }
   ],
   "source": [
    "fn_df['Malicious'].value_counts()"
   ]
  },
  {
   "cell_type": "code",
   "execution_count": 80,
   "metadata": {},
   "outputs": [],
   "source": [
    "fn_df.drop(['Harmless', 'Undetected'], axis=1, inplace=True)"
   ]
  },
  {
   "cell_type": "code",
   "execution_count": 81,
   "metadata": {},
   "outputs": [
    {
     "data": {
      "text/plain": [
       "GoDaddy.com, LLC                                          49\n",
       "GoDaddy Corporate Domains, LLC                            22\n",
       "NAMECHEAP INC                                             16\n",
       "TUCOWS, INC.                                              14\n",
       "CSC CORPORATE DOMAINS, INC.                               11\n",
       "Network Solutions, LLC                                     9\n",
       "Key-Systems GmbH                                           6\n",
       "MarkMonitor, Inc.                                          5\n",
       "ABOVE.COM PTY LTD.                                         5\n",
       "Epik Holdings Inc                                          4\n",
       "GANDI SAS                                                  4\n",
       "Name.com, Inc.                                             2\n",
       "NameSilo, LLC                                              2\n",
       "FastDomain Inc.                                            2\n",
       "IONOS SE                                                   2\n",
       "Domainplace LLC                                            2\n",
       "NameCheap, Inc.                                            2\n",
       "Register.com, Inc.                                         2\n",
       "ENOM, INC.                                                 2\n",
       "easyDNS Technologies Inc.                                  1\n",
       "Communigal Communication Ltd                               1\n",
       "THE NAME IT CORPORATION DBA NAMESERVICES.NET               1\n",
       "SAV.COM, LLC                                               1\n",
       "DYNADOT LLC                                                1\n",
       "RUCENTER-SU                                                1\n",
       "DropCatch.com 1174 LLC                                     1\n",
       "Launchpad, Inc. (HostGator)                                1\n",
       "Drop Catch Mining LLC                                      1\n",
       "Sssasss, Incorporated                                      1\n",
       "NOM-IQ Ltd dba Com Laude                                   1\n",
       "Epik Inc.                                                  1\n",
       "Cloudflare, Inc.                                           1\n",
       "PDR Ltd. d/b/a PublicDomainRegistry.com                    1\n",
       "Amazon Registrar, Inc.                                     1\n",
       "Google LLC                                                 1\n",
       "DropCatch.com 1340 LLC                                     1\n",
       "Domainarmada.com LLC                                       1\n",
       "DropCatch.com 1111 LLC                                     1\n",
       "Dynadot LLC                                                1\n",
       "InterNetX GmbH                                             1\n",
       "PearlNamingService.com LLC                                 1\n",
       "Instra Corporation Pty Ltd                                 1\n",
       "Internet Domain Service BS Corp.                           1\n",
       "https://www.101domain.com/                                 1\n",
       "TurnCommerce, Inc. DBA NameBright.com                      1\n",
       "Hostinger, UAB                                             1\n",
       "NamePal.com #8009 Inc.                                     1\n",
       "DropCatch.com 361 LLC                                      1\n",
       "NETWORK SOLUTIONS, LLC.                                    1\n",
       "Regional Network Information Center, JSC dba RU-CENTER     1\n",
       "GoDaddy Online Services Cayman Islands Ltd.                1\n",
       "Pair Domains                                               1\n",
       "Domain Esta Aqui, LLC                                      1\n",
       "Name: Domain registrar, dtype: int64"
      ]
     },
     "execution_count": 81,
     "metadata": {},
     "output_type": "execute_result"
    }
   ],
   "source": [
    "fn_df['Domain registrar'].value_counts()"
   ]
  },
  {
   "cell_type": "code",
   "execution_count": 82,
   "metadata": {},
   "outputs": [
    {
     "data": {
      "text/plain": [
       "85284                        45\n",
       "REDACTED FOR PRIVACY         27\n",
       "101                          16\n",
       "32256                         6\n",
       "80202                         5\n",
       "60654                         4\n",
       "Statutory Masking Enabled     4\n",
       "98004                         4\n",
       "22314                         4\n",
       "49418                         3\n",
       "0102                          3\n",
       "85016                         2\n",
       "75013                         2\n",
       "10007                         2\n",
       "80201                         2\n",
       "M6K 3M1                       2\n",
       "70810-1611                    1\n",
       "M4K 3K1                       1\n",
       "75201                         1\n",
       "10018                         1\n",
       "Redacted for GDPR privacy     1\n",
       "60607-2184                    1\n",
       "65708                         1\n",
       "02115-3012                    1\n",
       "10023-6298                    1\n",
       "95401-6313                    1\n",
       "30328                         1\n",
       "49088                         1\n",
       "84101                         1\n",
       "63101                         1\n",
       "248001                        1\n",
       "DATA REDACTED                 1\n",
       "11747                         1\n",
       "10016-7419                    1\n",
       "01201                         1\n",
       "84101-1431                    1\n",
       "False                         1\n",
       "119021                        1\n",
       "22320                         1\n",
       "01803                         1\n",
       "98108-1226                    1\n",
       "93012                         1\n",
       "00926                         1\n",
       "GDPR Redacted                 1\n",
       "Name: Postal code, dtype: int64"
      ]
     },
     "execution_count": 82,
     "metadata": {},
     "output_type": "execute_result"
    }
   ],
   "source": [
    "fn_df['Postal code'].value_counts()"
   ]
  },
  {
   "cell_type": "code",
   "execution_count": 83,
   "metadata": {},
   "outputs": [
    {
     "data": {
      "text/plain": [
       "US                      143\n",
       "IS                       16\n",
       "HK                        4\n",
       "GI                        3\n",
       "CA                        3\n",
       "FR                        3\n",
       "BG                        3\n",
       "CN                        2\n",
       "NL                        1\n",
       "False                     1\n",
       "RU                        1\n",
       "RS                        1\n",
       "REDACTED FOR PRIVACY      1\n",
       "BS                        1\n",
       "RO                        1\n",
       "GB                        1\n",
       "IN                        1\n",
       "Name: Country of origin, dtype: int64"
      ]
     },
     "execution_count": 83,
     "metadata": {},
     "output_type": "execute_result"
    }
   ],
   "source": [
    "fn_df['Country of origin'].value_counts()"
   ]
  },
  {
   "cell_type": "code",
   "execution_count": 84,
   "metadata": {},
   "outputs": [
    {
     "data": {
      "text/html": [
       "<div>\n",
       "<style scoped>\n",
       "    .dataframe tbody tr th:only-of-type {\n",
       "        vertical-align: middle;\n",
       "    }\n",
       "\n",
       "    .dataframe tbody tr th {\n",
       "        vertical-align: top;\n",
       "    }\n",
       "\n",
       "    .dataframe thead th {\n",
       "        text-align: right;\n",
       "    }\n",
       "</style>\n",
       "<table border=\"1\" class=\"dataframe\">\n",
       "  <thead>\n",
       "    <tr style=\"text-align: right;\">\n",
       "      <th></th>\n",
       "      <th>Domain registrar</th>\n",
       "      <th>Postal code</th>\n",
       "      <th>Links to fake news site?</th>\n",
       "      <th>Wordpress?</th>\n",
       "      <th>Site Rating</th>\n",
       "      <th>Country of origin</th>\n",
       "    </tr>\n",
       "  </thead>\n",
       "  <tbody>\n",
       "    <tr>\n",
       "      <th>0</th>\n",
       "      <td>GoDaddy.com, LLC</td>\n",
       "      <td>85284</td>\n",
       "      <td>False</td>\n",
       "      <td>True</td>\n",
       "      <td>Fake</td>\n",
       "      <td>US</td>\n",
       "    </tr>\n",
       "    <tr>\n",
       "      <th>1</th>\n",
       "      <td>NamePal.com #8009 Inc.</td>\n",
       "      <td>32256</td>\n",
       "      <td>False</td>\n",
       "      <td>False</td>\n",
       "      <td>Fake</td>\n",
       "      <td>US</td>\n",
       "    </tr>\n",
       "    <tr>\n",
       "      <th>2</th>\n",
       "      <td>GoDaddy.com, LLC</td>\n",
       "      <td>85284</td>\n",
       "      <td>False</td>\n",
       "      <td>True</td>\n",
       "      <td>Fake</td>\n",
       "      <td>US</td>\n",
       "    </tr>\n",
       "    <tr>\n",
       "      <th>3</th>\n",
       "      <td>GoDaddy.com, LLC</td>\n",
       "      <td>85284</td>\n",
       "      <td>False</td>\n",
       "      <td>True</td>\n",
       "      <td>Fake</td>\n",
       "      <td>US</td>\n",
       "    </tr>\n",
       "    <tr>\n",
       "      <th>4</th>\n",
       "      <td>CSC CORPORATE DOMAINS, INC.</td>\n",
       "      <td>10023-6298</td>\n",
       "      <td>False</td>\n",
       "      <td>False</td>\n",
       "      <td>Fake</td>\n",
       "      <td>US</td>\n",
       "    </tr>\n",
       "    <tr>\n",
       "      <th>...</th>\n",
       "      <td>...</td>\n",
       "      <td>...</td>\n",
       "      <td>...</td>\n",
       "      <td>...</td>\n",
       "      <td>...</td>\n",
       "      <td>...</td>\n",
       "    </tr>\n",
       "    <tr>\n",
       "      <th>194</th>\n",
       "      <td>GoDaddy Corporate Domains, LLC</td>\n",
       "      <td>NaN</td>\n",
       "      <td>False</td>\n",
       "      <td>False</td>\n",
       "      <td>Real</td>\n",
       "      <td>US</td>\n",
       "    </tr>\n",
       "    <tr>\n",
       "      <th>195</th>\n",
       "      <td>GoDaddy.com, LLC</td>\n",
       "      <td>85284</td>\n",
       "      <td>False</td>\n",
       "      <td>False</td>\n",
       "      <td>Real</td>\n",
       "      <td>US</td>\n",
       "    </tr>\n",
       "    <tr>\n",
       "      <th>196</th>\n",
       "      <td>Google LLC</td>\n",
       "      <td>M4K 3K1</td>\n",
       "      <td>False</td>\n",
       "      <td>False</td>\n",
       "      <td>Real</td>\n",
       "      <td>CA</td>\n",
       "    </tr>\n",
       "    <tr>\n",
       "      <th>197</th>\n",
       "      <td>TUCOWS, INC.</td>\n",
       "      <td>REDACTED FOR PRIVACY</td>\n",
       "      <td>False</td>\n",
       "      <td>False</td>\n",
       "      <td>Real</td>\n",
       "      <td>US</td>\n",
       "    </tr>\n",
       "    <tr>\n",
       "      <th>198</th>\n",
       "      <td>NAMECHEAP INC</td>\n",
       "      <td>101</td>\n",
       "      <td>False</td>\n",
       "      <td>False</td>\n",
       "      <td>Real</td>\n",
       "      <td>IS</td>\n",
       "    </tr>\n",
       "  </tbody>\n",
       "</table>\n",
       "<p>199 rows × 6 columns</p>\n",
       "</div>"
      ],
      "text/plain": [
       "                   Domain registrar           Postal code  \\\n",
       "0                  GoDaddy.com, LLC                 85284   \n",
       "1            NamePal.com #8009 Inc.                 32256   \n",
       "2                  GoDaddy.com, LLC                 85284   \n",
       "3                  GoDaddy.com, LLC                 85284   \n",
       "4       CSC CORPORATE DOMAINS, INC.            10023-6298   \n",
       "..                              ...                   ...   \n",
       "194  GoDaddy Corporate Domains, LLC                   NaN   \n",
       "195                GoDaddy.com, LLC                 85284   \n",
       "196                      Google LLC               M4K 3K1   \n",
       "197                    TUCOWS, INC.  REDACTED FOR PRIVACY   \n",
       "198                   NAMECHEAP INC                   101   \n",
       "\n",
       "     Links to fake news site?  Wordpress? Site Rating Country of origin  \n",
       "0                       False        True        Fake                US  \n",
       "1                       False       False        Fake                US  \n",
       "2                       False        True        Fake                US  \n",
       "3                       False        True        Fake                US  \n",
       "4                       False       False        Fake                US  \n",
       "..                        ...         ...         ...               ...  \n",
       "194                     False       False        Real                US  \n",
       "195                     False       False        Real                US  \n",
       "196                     False       False        Real                CA  \n",
       "197                     False       False        Real                US  \n",
       "198                     False       False        Real                IS  \n",
       "\n",
       "[199 rows x 6 columns]"
      ]
     },
     "execution_count": 84,
     "metadata": {},
     "output_type": "execute_result"
    }
   ],
   "source": [
    "fn_df[['Domain registrar', 'Postal code', 'Links to fake news site?', 'Wordpress?', 'Site Rating', 'Country of origin']]"
   ]
  },
  {
   "cell_type": "code",
   "execution_count": 85,
   "metadata": {},
   "outputs": [
    {
     "data": {
      "text/html": [
       "<div>\n",
       "<style scoped>\n",
       "    .dataframe tbody tr th:only-of-type {\n",
       "        vertical-align: middle;\n",
       "    }\n",
       "\n",
       "    .dataframe tbody tr th {\n",
       "        vertical-align: top;\n",
       "    }\n",
       "\n",
       "    .dataframe thead th {\n",
       "        text-align: right;\n",
       "    }\n",
       "</style>\n",
       "<table border=\"1\" class=\"dataframe\">\n",
       "  <thead>\n",
       "    <tr style=\"text-align: right;\">\n",
       "      <th></th>\n",
       "      <th>Domain</th>\n",
       "      <th>Domain registrar</th>\n",
       "      <th>Postal code</th>\n",
       "      <th>Links to fake news site?</th>\n",
       "      <th>Wordpress?</th>\n",
       "      <th>Page rank integer</th>\n",
       "      <th>Page rank decimal</th>\n",
       "      <th>Site Rank</th>\n",
       "      <th>Country of origin</th>\n",
       "      <th>Malicious</th>\n",
       "      <th>Suspicious</th>\n",
       "      <th>No. of Local links</th>\n",
       "      <th>No. of Outbound links</th>\n",
       "      <th>Total links</th>\n",
       "      <th>Site Rating</th>\n",
       "    </tr>\n",
       "  </thead>\n",
       "  <tbody>\n",
       "    <tr>\n",
       "      <th>0</th>\n",
       "      <td>actionnews3.com</td>\n",
       "      <td>22</td>\n",
       "      <td>31</td>\n",
       "      <td>0</td>\n",
       "      <td>1</td>\n",
       "      <td>3</td>\n",
       "      <td>2.82</td>\n",
       "      <td>7390112.0</td>\n",
       "      <td>16</td>\n",
       "      <td>0</td>\n",
       "      <td>0</td>\n",
       "      <td>16</td>\n",
       "      <td>1</td>\n",
       "      <td>17</td>\n",
       "      <td>0</td>\n",
       "    </tr>\n",
       "    <tr>\n",
       "      <th>1</th>\n",
       "      <td>abcnews-us.com</td>\n",
       "      <td>37</td>\n",
       "      <td>16</td>\n",
       "      <td>0</td>\n",
       "      <td>0</td>\n",
       "      <td>3</td>\n",
       "      <td>2.89</td>\n",
       "      <td>6579810.0</td>\n",
       "      <td>16</td>\n",
       "      <td>0</td>\n",
       "      <td>0</td>\n",
       "      <td>0</td>\n",
       "      <td>1</td>\n",
       "      <td>1</td>\n",
       "      <td>0</td>\n",
       "    </tr>\n",
       "    <tr>\n",
       "      <th>2</th>\n",
       "      <td>21stcenturywire.com</td>\n",
       "      <td>22</td>\n",
       "      <td>31</td>\n",
       "      <td>0</td>\n",
       "      <td>1</td>\n",
       "      <td>5</td>\n",
       "      <td>4.57</td>\n",
       "      <td>66742.0</td>\n",
       "      <td>16</td>\n",
       "      <td>0</td>\n",
       "      <td>0</td>\n",
       "      <td>183</td>\n",
       "      <td>36</td>\n",
       "      <td>219</td>\n",
       "      <td>0</td>\n",
       "    </tr>\n",
       "    <tr>\n",
       "      <th>3</th>\n",
       "      <td>100percentfedup.com</td>\n",
       "      <td>22</td>\n",
       "      <td>31</td>\n",
       "      <td>0</td>\n",
       "      <td>1</td>\n",
       "      <td>4</td>\n",
       "      <td>4.15</td>\n",
       "      <td>778723.0</td>\n",
       "      <td>16</td>\n",
       "      <td>1</td>\n",
       "      <td>0</td>\n",
       "      <td>49</td>\n",
       "      <td>8</td>\n",
       "      <td>57</td>\n",
       "      <td>0</td>\n",
       "    </tr>\n",
       "    <tr>\n",
       "      <th>4</th>\n",
       "      <td>abcnews.com</td>\n",
       "      <td>2</td>\n",
       "      <td>8</td>\n",
       "      <td>0</td>\n",
       "      <td>0</td>\n",
       "      <td>5</td>\n",
       "      <td>4.78</td>\n",
       "      <td>32787.0</td>\n",
       "      <td>16</td>\n",
       "      <td>0</td>\n",
       "      <td>0</td>\n",
       "      <td>0</td>\n",
       "      <td>144</td>\n",
       "      <td>144</td>\n",
       "      <td>0</td>\n",
       "    </tr>\n",
       "    <tr>\n",
       "      <th>...</th>\n",
       "      <td>...</td>\n",
       "      <td>...</td>\n",
       "      <td>...</td>\n",
       "      <td>...</td>\n",
       "      <td>...</td>\n",
       "      <td>...</td>\n",
       "      <td>...</td>\n",
       "      <td>...</td>\n",
       "      <td>...</td>\n",
       "      <td>...</td>\n",
       "      <td>...</td>\n",
       "      <td>...</td>\n",
       "      <td>...</td>\n",
       "      <td>...</td>\n",
       "      <td>...</td>\n",
       "    </tr>\n",
       "    <tr>\n",
       "      <th>194</th>\n",
       "      <td>tuscaloosanews.com</td>\n",
       "      <td>20</td>\n",
       "      <td>44</td>\n",
       "      <td>0</td>\n",
       "      <td>0</td>\n",
       "      <td>5</td>\n",
       "      <td>4.68</td>\n",
       "      <td>44580.0</td>\n",
       "      <td>16</td>\n",
       "      <td>0</td>\n",
       "      <td>0</td>\n",
       "      <td>36</td>\n",
       "      <td>2</td>\n",
       "      <td>38</td>\n",
       "      <td>1</td>\n",
       "    </tr>\n",
       "    <tr>\n",
       "      <th>195</th>\n",
       "      <td>virginislandsdailynews.com</td>\n",
       "      <td>22</td>\n",
       "      <td>31</td>\n",
       "      <td>0</td>\n",
       "      <td>0</td>\n",
       "      <td>4</td>\n",
       "      <td>4.40</td>\n",
       "      <td>130211.0</td>\n",
       "      <td>16</td>\n",
       "      <td>0</td>\n",
       "      <td>0</td>\n",
       "      <td>62</td>\n",
       "      <td>4</td>\n",
       "      <td>66</td>\n",
       "      <td>1</td>\n",
       "    </tr>\n",
       "    <tr>\n",
       "      <th>196</th>\n",
       "      <td>eek.com</td>\n",
       "      <td>23</td>\n",
       "      <td>39</td>\n",
       "      <td>0</td>\n",
       "      <td>0</td>\n",
       "      <td>2</td>\n",
       "      <td>1.66</td>\n",
       "      <td>54737979.0</td>\n",
       "      <td>2</td>\n",
       "      <td>0</td>\n",
       "      <td>0</td>\n",
       "      <td>0</td>\n",
       "      <td>0</td>\n",
       "      <td>0</td>\n",
       "      <td>1</td>\n",
       "    </tr>\n",
       "    <tr>\n",
       "      <th>197</th>\n",
       "      <td>journalnow.com</td>\n",
       "      <td>49</td>\n",
       "      <td>41</td>\n",
       "      <td>0</td>\n",
       "      <td>0</td>\n",
       "      <td>5</td>\n",
       "      <td>4.95</td>\n",
       "      <td>22103.0</td>\n",
       "      <td>16</td>\n",
       "      <td>0</td>\n",
       "      <td>0</td>\n",
       "      <td>179</td>\n",
       "      <td>8</td>\n",
       "      <td>187</td>\n",
       "      <td>1</td>\n",
       "    </tr>\n",
       "    <tr>\n",
       "      <th>198</th>\n",
       "      <td>xeniagazette.com</td>\n",
       "      <td>32</td>\n",
       "      <td>9</td>\n",
       "      <td>0</td>\n",
       "      <td>0</td>\n",
       "      <td>4</td>\n",
       "      <td>4.18</td>\n",
       "      <td>548457.0</td>\n",
       "      <td>10</td>\n",
       "      <td>0</td>\n",
       "      <td>0</td>\n",
       "      <td>144</td>\n",
       "      <td>22</td>\n",
       "      <td>166</td>\n",
       "      <td>1</td>\n",
       "    </tr>\n",
       "  </tbody>\n",
       "</table>\n",
       "<p>199 rows × 15 columns</p>\n",
       "</div>"
      ],
      "text/plain": [
       "                         Domain  Domain registrar  Postal code  \\\n",
       "0               actionnews3.com                22           31   \n",
       "1                abcnews-us.com                37           16   \n",
       "2           21stcenturywire.com                22           31   \n",
       "3           100percentfedup.com                22           31   \n",
       "4                   abcnews.com                 2            8   \n",
       "..                          ...               ...          ...   \n",
       "194          tuscaloosanews.com                20           44   \n",
       "195  virginislandsdailynews.com                22           31   \n",
       "196                     eek.com                23           39   \n",
       "197              journalnow.com                49           41   \n",
       "198            xeniagazette.com                32            9   \n",
       "\n",
       "     Links to fake news site?  Wordpress?  Page rank integer  \\\n",
       "0                           0           1                  3   \n",
       "1                           0           0                  3   \n",
       "2                           0           1                  5   \n",
       "3                           0           1                  4   \n",
       "4                           0           0                  5   \n",
       "..                        ...         ...                ...   \n",
       "194                         0           0                  5   \n",
       "195                         0           0                  4   \n",
       "196                         0           0                  2   \n",
       "197                         0           0                  5   \n",
       "198                         0           0                  4   \n",
       "\n",
       "     Page rank decimal   Site Rank  Country of origin  Malicious  Suspicious  \\\n",
       "0                 2.82   7390112.0                 16          0           0   \n",
       "1                 2.89   6579810.0                 16          0           0   \n",
       "2                 4.57     66742.0                 16          0           0   \n",
       "3                 4.15    778723.0                 16          1           0   \n",
       "4                 4.78     32787.0                 16          0           0   \n",
       "..                 ...         ...                ...        ...         ...   \n",
       "194               4.68     44580.0                 16          0           0   \n",
       "195               4.40    130211.0                 16          0           0   \n",
       "196               1.66  54737979.0                  2          0           0   \n",
       "197               4.95     22103.0                 16          0           0   \n",
       "198               4.18    548457.0                 10          0           0   \n",
       "\n",
       "     No. of Local links  No. of Outbound links  Total links  Site Rating  \n",
       "0                    16                      1           17            0  \n",
       "1                     0                      1            1            0  \n",
       "2                   183                     36          219            0  \n",
       "3                    49                      8           57            0  \n",
       "4                     0                    144          144            0  \n",
       "..                  ...                    ...          ...          ...  \n",
       "194                  36                      2           38            1  \n",
       "195                  62                      4           66            1  \n",
       "196                   0                      0            0            1  \n",
       "197                 179                      8          187            1  \n",
       "198                 144                     22          166            1  \n",
       "\n",
       "[199 rows x 15 columns]"
      ]
     },
     "execution_count": 85,
     "metadata": {},
     "output_type": "execute_result"
    }
   ],
   "source": [
    "from sklearn.preprocessing import LabelEncoder\n",
    "le = LabelEncoder()\n",
    "\n",
    "df = fn_df[['Domain registrar', 'Postal code', 'Links to fake news site?', 'Wordpress?', 'Site Rating', 'Country of origin']]\n",
    "\n",
    "df_encoded = df.apply(le.fit_transform)\n",
    "\n",
    "dropped_df = fn_df.drop(['Domain registrar', 'Postal code', 'Links to fake news site?', 'Wordpress?', 'Site Rating', 'Country of origin'], axis=1)\n",
    "main_df = pd.concat([df_encoded, dropped_df], axis=1, join='inner')\n",
    "main_df = main_df[['Domain', 'Domain registrar', 'Postal code', 'Links to fake news site?',\n",
    "       'Wordpress?', 'Page rank integer',\n",
    "       'Page rank decimal', 'Site Rank', 'Country of origin',\n",
    "       'Malicious', 'Suspicious',\n",
    "       'No. of Local links', 'No. of Outbound links', 'Total links', 'Site Rating']]\n",
    "main_df"
   ]
  },
  {
   "cell_type": "code",
   "execution_count": 86,
   "metadata": {},
   "outputs": [
    {
     "data": {
      "text/plain": [
       "73"
      ]
     },
     "execution_count": 86,
     "metadata": {},
     "output_type": "execute_result"
    }
   ],
   "source": [
    "main_df[(main_df['Malicious'] == 0) & (main_df['Site Rating'] == 0)].shape[0]\n"
   ]
  },
  {
   "cell_type": "code",
   "execution_count": 87,
   "metadata": {},
   "outputs": [
    {
     "data": {
      "text/plain": [
       "59"
      ]
     },
     "execution_count": 87,
     "metadata": {},
     "output_type": "execute_result"
    }
   ],
   "source": [
    "main_df[(main_df['Wordpress?'] == 1) & (main_df['Site Rating'] == 0)].shape[0]"
   ]
  },
  {
   "cell_type": "code",
   "execution_count": 88,
   "metadata": {},
   "outputs": [
    {
     "data": {
      "image/png": "[encoded data removed]",
      "text/plain": [
       "<Figure size 1080x1080 with 2 Axes>"
      ]
     },
     "metadata": {
      "needs_background": "light"
     },
     "output_type": "display_data"
    }
   ],
   "source": [
    "import seaborn as sns\n",
    "corrmat = main_df.corr()\n",
    "top_corr_features = corrmat.index\n",
    "plt.figure(figsize = (15,15))\n",
    "g = sns.heatmap(main_df[top_corr_features].corr(), annot=True , cmap = 'RdYlGn')"
   ]
  },
  {
   "cell_type": "code",
   "execution_count": 89,
   "metadata": {},
   "outputs": [
    {
     "data": {
      "text/plain": [
       "<AxesSubplot:title={'center':'Domain registrar'}, xlabel='Site Rating'>"
      ]
     },
     "execution_count": 89,
     "metadata": {},
     "output_type": "execute_result"
    },
    {
     "data": {
      "image/png": "[encoded data removed]",
      "text/plain": [
       "<Figure size 432x432 with 1 Axes>"
      ]
     },
     "metadata": {
      "needs_background": "light"
     },
     "output_type": "display_data"
    }
   ],
   "source": [
    "main_df.boxplot(column = 'Domain registrar', by = 'Site Rating', figsize = (6, 6))"
   ]
  },
  {
   "cell_type": "code",
   "execution_count": 90,
   "metadata": {},
   "outputs": [
    {
     "data": {
      "text/plain": [
       "<AxesSubplot:title={'center':'Postal code'}, xlabel='Site Rating'>"
      ]
     },
     "execution_count": 90,
     "metadata": {},
     "output_type": "execute_result"
    },
    {
     "data": {
      "image/png": "[encoded data removed]",
      "text/plain": [
       "<Figure size 432x432 with 1 Axes>"
      ]
     },
     "metadata": {
      "needs_background": "light"
     },
     "output_type": "display_data"
    }
   ],
   "source": [
    "main_df.boxplot(column = 'Postal code', by = 'Site Rating', figsize = (6, 6))"
   ]
  },
  {
   "cell_type": "code",
   "execution_count": 91,
   "metadata": {},
   "outputs": [
    {
     "data": {
      "text/plain": [
       "<AxesSubplot:title={'center':'No. of Local links'}, xlabel='Site Rating'>"
      ]
     },
     "execution_count": 91,
     "metadata": {},
     "output_type": "execute_result"
    },
    {
     "data": {
      "image/png": "[encoded data removed]",
      "text/plain": [
       "<Figure size 432x432 with 1 Axes>"
      ]
     },
     "metadata": {
      "needs_background": "light"
     },
     "output_type": "display_data"
    }
   ],
   "source": [
    "main_df.boxplot(column = 'No. of Local links', by = 'Site Rating', figsize = (6, 6))"
   ]
  },
  {
   "cell_type": "code",
   "execution_count": 92,
   "metadata": {},
   "outputs": [
    {
     "data": {
      "text/plain": [
       "<AxesSubplot:title={'center':'No. of Outbound links'}, xlabel='Site Rating'>"
      ]
     },
     "execution_count": 92,
     "metadata": {},
     "output_type": "execute_result"
    },
    {
     "data": {
      "image/png": "[encoded data removed]",
      "text/plain": [
       "<Figure size 432x432 with 1 Axes>"
      ]
     },
     "metadata": {
      "needs_background": "light"
     },
     "output_type": "display_data"
    }
   ],
   "source": [
    "main_df.boxplot(column = 'No. of Outbound links', by = 'Site Rating', figsize = (6, 6))"
   ]
  },
  {
   "cell_type": "code",
   "execution_count": 93,
   "metadata": {},
   "outputs": [
    {
     "data": {
      "text/plain": [
       "<AxesSubplot:title={'center':'Total links'}, xlabel='Site Rating'>"
      ]
     },
     "execution_count": 93,
     "metadata": {},
     "output_type": "execute_result"
    },
    {
     "data": {
      "image/png": "[encoded data removed]",
      "text/plain": [
       "<Figure size 432x432 with 1 Axes>"
      ]
     },
     "metadata": {
      "needs_background": "light"
     },
     "output_type": "display_data"
    }
   ],
   "source": [
    "main_df.boxplot(column = 'Total links', by = 'Site Rating', figsize = (6, 6))"
   ]
  },
  {
   "cell_type": "code",
   "execution_count": 94,
   "metadata": {},
   "outputs": [
    {
     "data": {
      "text/plain": [
       "<AxesSubplot:title={'center':'Page rank decimal'}, xlabel='Site Rating'>"
      ]
     },
     "execution_count": 94,
     "metadata": {},
     "output_type": "execute_result"
    },
    {
     "data": {
      "image/png": "[encoded data removed]",
      "text/plain": [
       "<Figure size 432x432 with 1 Axes>"
      ]
     },
     "metadata": {
      "needs_background": "light"
     },
     "output_type": "display_data"
    }
   ],
   "source": [
    "main_df.boxplot(column = 'Page rank decimal', by = 'Site Rating', figsize = (6, 6))"
   ]
  },
  {
   "cell_type": "code",
   "execution_count": 95,
   "metadata": {},
   "outputs": [
    {
     "data": {
      "text/plain": [
       "<AxesSubplot:title={'center':'Site Rank'}, xlabel='Site Rating'>"
      ]
     },
     "execution_count": 95,
     "metadata": {},
     "output_type": "execute_result"
    },
    {
     "data": {
      "image/png": "[encoded data removed]",
      "text/plain": [
       "<Figure size 432x432 with 1 Axes>"
      ]
     },
     "metadata": {
      "needs_background": "light"
     },
     "output_type": "display_data"
    }
   ],
   "source": [
    "main_df.boxplot(column = 'Site Rank', by = 'Site Rating', figsize = (6, 6))"
   ]
  },
  {
   "cell_type": "code",
   "execution_count": 96,
   "metadata": {},
   "outputs": [
    {
     "data": {
      "image/png": "[encoded data removed]",
      "text/plain": [
       "<Figure size 576x576 with 2 Axes>"
      ]
     },
     "metadata": {
      "needs_background": "light"
     },
     "output_type": "display_data"
    }
   ],
   "source": [
    "plt.figure(figsize = (8,8))\n",
    "sns.heatmap(main_df[['Wordpress?', 'Site Rating']])\n",
    "plt.show()"
   ]
  },
  {
   "cell_type": "code",
   "execution_count": 97,
   "metadata": {},
   "outputs": [
    {
     "data": {
      "image/png": "[encoded data removed]",
      "text/plain": [
       "<Figure size 576x576 with 2 Axes>"
      ]
     },
     "metadata": {
      "needs_background": "light"
     },
     "output_type": "display_data"
    }
   ],
   "source": [
    "plt.figure(figsize = (8,8))\n",
    "sns.heatmap(main_df[['Malicious', 'Site Rating']])\n",
    "plt.show()"
   ]
  },
  {
   "cell_type": "code",
   "execution_count": 99,
   "metadata": {},
   "outputs": [],
   "source": [
    "X = main_df[['Postal code', 'Links to fake news site?',\n",
    "       'Wordpress?', \n",
    "       'Page rank decimal', 'Site Rank', 'Country of origin',\n",
    "       'Malicious', \n",
    "       'No. of Local links', 'Total links']]\n",
    "\n",
    "y = main_df['Site Rating'].values"
   ]
  },
  {
   "cell_type": "code",
   "execution_count": 100,
   "metadata": {},
   "outputs": [
    {
     "data": {
      "text/html": [
       "<div>\n",
       "<style scoped>\n",
       "    .dataframe tbody tr th:only-of-type {\n",
       "        vertical-align: middle;\n",
       "    }\n",
       "\n",
       "    .dataframe tbody tr th {\n",
       "        vertical-align: top;\n",
       "    }\n",
       "\n",
       "    .dataframe thead th {\n",
       "        text-align: right;\n",
       "    }\n",
       "</style>\n",
       "<table border=\"1\" class=\"dataframe\">\n",
       "  <thead>\n",
       "    <tr style=\"text-align: right;\">\n",
       "      <th></th>\n",
       "      <th>Postal code</th>\n",
       "      <th>Links to fake news site?</th>\n",
       "      <th>Wordpress?</th>\n",
       "      <th>Page rank decimal</th>\n",
       "      <th>Site Rank</th>\n",
       "      <th>Country of origin</th>\n",
       "      <th>Malicious</th>\n",
       "      <th>No. of Local links</th>\n",
       "      <th>Total links</th>\n",
       "    </tr>\n",
       "  </thead>\n",
       "  <tbody>\n",
       "    <tr>\n",
       "      <th>0</th>\n",
       "      <td>31</td>\n",
       "      <td>0</td>\n",
       "      <td>1</td>\n",
       "      <td>2.82</td>\n",
       "      <td>7390112.0</td>\n",
       "      <td>16</td>\n",
       "      <td>0</td>\n",
       "      <td>16</td>\n",
       "      <td>17</td>\n",
       "    </tr>\n",
       "    <tr>\n",
       "      <th>1</th>\n",
       "      <td>16</td>\n",
       "      <td>0</td>\n",
       "      <td>0</td>\n",
       "      <td>2.89</td>\n",
       "      <td>6579810.0</td>\n",
       "      <td>16</td>\n",
       "      <td>0</td>\n",
       "      <td>0</td>\n",
       "      <td>1</td>\n",
       "    </tr>\n",
       "    <tr>\n",
       "      <th>2</th>\n",
       "      <td>31</td>\n",
       "      <td>0</td>\n",
       "      <td>1</td>\n",
       "      <td>4.57</td>\n",
       "      <td>66742.0</td>\n",
       "      <td>16</td>\n",
       "      <td>0</td>\n",
       "      <td>183</td>\n",
       "      <td>219</td>\n",
       "    </tr>\n",
       "    <tr>\n",
       "      <th>3</th>\n",
       "      <td>31</td>\n",
       "      <td>0</td>\n",
       "      <td>1</td>\n",
       "      <td>4.15</td>\n",
       "      <td>778723.0</td>\n",
       "      <td>16</td>\n",
       "      <td>1</td>\n",
       "      <td>49</td>\n",
       "      <td>57</td>\n",
       "    </tr>\n",
       "    <tr>\n",
       "      <th>4</th>\n",
       "      <td>8</td>\n",
       "      <td>0</td>\n",
       "      <td>0</td>\n",
       "      <td>4.78</td>\n",
       "      <td>32787.0</td>\n",
       "      <td>16</td>\n",
       "      <td>0</td>\n",
       "      <td>0</td>\n",
       "      <td>144</td>\n",
       "    </tr>\n",
       "    <tr>\n",
       "      <th>...</th>\n",
       "      <td>...</td>\n",
       "      <td>...</td>\n",
       "      <td>...</td>\n",
       "      <td>...</td>\n",
       "      <td>...</td>\n",
       "      <td>...</td>\n",
       "      <td>...</td>\n",
       "      <td>...</td>\n",
       "      <td>...</td>\n",
       "    </tr>\n",
       "    <tr>\n",
       "      <th>194</th>\n",
       "      <td>44</td>\n",
       "      <td>0</td>\n",
       "      <td>0</td>\n",
       "      <td>4.68</td>\n",
       "      <td>44580.0</td>\n",
       "      <td>16</td>\n",
       "      <td>0</td>\n",
       "      <td>36</td>\n",
       "      <td>38</td>\n",
       "    </tr>\n",
       "    <tr>\n",
       "      <th>195</th>\n",
       "      <td>31</td>\n",
       "      <td>0</td>\n",
       "      <td>0</td>\n",
       "      <td>4.40</td>\n",
       "      <td>130211.0</td>\n",
       "      <td>16</td>\n",
       "      <td>0</td>\n",
       "      <td>62</td>\n",
       "      <td>66</td>\n",
       "    </tr>\n",
       "    <tr>\n",
       "      <th>196</th>\n",
       "      <td>39</td>\n",
       "      <td>0</td>\n",
       "      <td>0</td>\n",
       "      <td>1.66</td>\n",
       "      <td>54737979.0</td>\n",
       "      <td>2</td>\n",
       "      <td>0</td>\n",
       "      <td>0</td>\n",
       "      <td>0</td>\n",
       "    </tr>\n",
       "    <tr>\n",
       "      <th>197</th>\n",
       "      <td>41</td>\n",
       "      <td>0</td>\n",
       "      <td>0</td>\n",
       "      <td>4.95</td>\n",
       "      <td>22103.0</td>\n",
       "      <td>16</td>\n",
       "      <td>0</td>\n",
       "      <td>179</td>\n",
       "      <td>187</td>\n",
       "    </tr>\n",
       "    <tr>\n",
       "      <th>198</th>\n",
       "      <td>9</td>\n",
       "      <td>0</td>\n",
       "      <td>0</td>\n",
       "      <td>4.18</td>\n",
       "      <td>548457.0</td>\n",
       "      <td>10</td>\n",
       "      <td>0</td>\n",
       "      <td>144</td>\n",
       "      <td>166</td>\n",
       "    </tr>\n",
       "  </tbody>\n",
       "</table>\n",
       "<p>199 rows × 9 columns</p>\n",
       "</div>"
      ],
      "text/plain": [
       "     Postal code  Links to fake news site?  Wordpress?  Page rank decimal  \\\n",
       "0             31                         0           1               2.82   \n",
       "1             16                         0           0               2.89   \n",
       "2             31                         0           1               4.57   \n",
       "3             31                         0           1               4.15   \n",
       "4              8                         0           0               4.78   \n",
       "..           ...                       ...         ...                ...   \n",
       "194           44                         0           0               4.68   \n",
       "195           31                         0           0               4.40   \n",
       "196           39                         0           0               1.66   \n",
       "197           41                         0           0               4.95   \n",
       "198            9                         0           0               4.18   \n",
       "\n",
       "      Site Rank  Country of origin  Malicious  No. of Local links  Total links  \n",
       "0     7390112.0                 16          0                  16           17  \n",
       "1     6579810.0                 16          0                   0            1  \n",
       "2       66742.0                 16          0                 183          219  \n",
       "3      778723.0                 16          1                  49           57  \n",
       "4       32787.0                 16          0                   0          144  \n",
       "..          ...                ...        ...                 ...          ...  \n",
       "194     44580.0                 16          0                  36           38  \n",
       "195    130211.0                 16          0                  62           66  \n",
       "196  54737979.0                  2          0                   0            0  \n",
       "197     22103.0                 16          0                 179          187  \n",
       "198    548457.0                 10          0                 144          166  \n",
       "\n",
       "[199 rows x 9 columns]"
      ]
     },
     "execution_count": 100,
     "metadata": {},
     "output_type": "execute_result"
    }
   ],
   "source": [
    "X"
   ]
  },
  {
   "cell_type": "code",
   "execution_count": 101,
   "metadata": {},
   "outputs": [
    {
     "data": {
      "text/plain": [
       "array([0, 0, 0, 0, 0, 0, 0, 0, 0, 0, 0, 0, 0, 0, 0, 0, 0, 0, 0, 0, 0, 0,\n",
       "       0, 0, 0, 0, 0, 0, 0, 0, 0, 0, 0, 0, 0, 0, 0, 0, 0, 0, 0, 0, 0, 0,\n",
       "       0, 0, 0, 0, 0, 0, 0, 0, 0, 0, 0, 0, 0, 0, 0, 0, 0, 0, 0, 0, 0, 0,\n",
       "       0, 0, 0, 0, 0, 0, 0, 0, 0, 0, 0, 0, 0, 0, 0, 0, 0, 0, 0, 0, 0, 0,\n",
       "       0, 0, 0, 0, 0, 0, 0, 0, 0, 0, 0, 0, 0, 0, 0, 0, 0, 0, 0, 0, 0, 0,\n",
       "       0, 0, 0, 0, 0, 0, 0, 0, 0, 0, 0, 0, 0, 0, 0, 1, 1, 1, 1, 1, 1, 1,\n",
       "       1, 1, 1, 1, 1, 1, 1, 1, 1, 1, 1, 1, 1, 1, 1, 1, 1, 1, 1, 1, 1, 1,\n",
       "       1, 1, 1, 1, 1, 1, 1, 1, 1, 1, 1, 1, 1, 1, 1, 1, 1, 1, 1, 1, 1, 1,\n",
       "       1, 1, 1, 1, 1, 1, 1, 1, 1, 1, 1, 1, 1, 1, 1, 1, 1, 1, 1, 1, 1, 1,\n",
       "       1])"
      ]
     },
     "execution_count": 101,
     "metadata": {},
     "output_type": "execute_result"
    }
   ],
   "source": [
    "y"
   ]
  },
  {
   "cell_type": "code",
   "execution_count": null,
   "metadata": {},
   "outputs": [],
   "source": []
  }
 ],
 "metadata": {
  "kernelspec": {
   "display_name": "Python 3.8.8 ('base')",
   "language": "python",
   "name": "python3"
  },
  "language_info": {
   "codemirror_mode": {
    "name": "ipython",
    "version": 3
   },
   "file_extension": ".py",
   "mimetype": "text/x-python",
   "name": "python",
   "nbconvert_exporter": "python",
   "pygments_lexer": "ipython3",
   "version": "3.8.8"
  },
  "orig_nbformat": 4,
  "vscode": {
   "interpreter": {
    "hash": "9a51e5855e04901d00966621b96dcfa06fb6a1bfd2a37e82f444787cca980996"
   }
  }
 },
 "nbformat": 4,
 "nbformat_minor": 2
}
